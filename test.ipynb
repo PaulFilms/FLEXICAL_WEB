{
 "cells": [
  {
   "cell_type": "code",
   "execution_count": 5,
   "metadata": {},
   "outputs": [
    {
     "name": "stdout",
     "output_type": "stream",
     "text": [
      "IAC_METERS\n",
      "OHM_METERS_HP\n",
      "OHM_METERS_57XX_4W\n",
      "VAC_SOURCES\n",
      "OHM_METERS_57XX_2W\n",
      "OHM_METERS_4W\n",
      "IDC_METERS\n",
      "OHM_METERS_2W\n",
      "VAC_METERS\n",
      "OHM_SOURCES\n",
      "OHM_METERS\n",
      "VDC_SOURCES\n",
      "FREQ_METERS\n",
      "VDC_METERS\n",
      "IDC_SOURCES\n"
     ]
    }
   ],
   "source": [
    "## SUPABASE\n",
    "\n",
    "from supabase import create_client, Client\n",
    "import streamlit as st\n",
    "import json\n",
    "\n",
    "def init_connection():\n",
    "    url = st.secrets[\"SUPABASE_URL\"]\n",
    "    key = st.secrets[\"SUPABASE_KEY\"]\n",
    "    return create_client(url, key)\n",
    "\n",
    "supabase: Client = init_connection()\n",
    "\n",
    "sql = supabase.table('PROCEDURES').select('Id', 'DB').execute().data\n",
    "# print(sql)\n",
    "for row in sql:\n",
    "    print(row['Id'])\n",
    "    # print(row['DB'])\n",
    "    DB = row['DB']\n",
    "    if isinstance(DB, str):\n",
    "        DB_DICT = json.loads(DB)\n",
    "    else:\n",
    "        DB_DICT = DB\n",
    "\n",
    "    ## CHANGE KEY 'REPORT_FORMAT'\n",
    "    # if 'REPORT_FORMAT' in DB_DICT:\n",
    "    #     DB_DICT['REPORT'] = DB_DICT.pop('REPORT_FORMAT')\n",
    "    #     supabase.table('PROCEDURES').update({'DB': json.dumps(DB_DICT)}).eq('Id', row['Id']).execute()\n",
    "\n",
    "    ## CHECK 'REPORT'\n",
    "    # if 'RESULT_TYPE' in DB_DICT['REPORT']:\n",
    "    #     print('  - pass / RESULT_TYPE', )\n",
    "    # else:\n",
    "    #     DB_DICT['REPORT']['RESULT_TYPE'] = None\n",
    "    # if 'ABSOLUTE_VALUES' in DB_DICT['REPORT']:\n",
    "    #     print('  - pass / ABSOLUTE_VALUES', )\n",
    "    # else:\n",
    "    #     DB_DICT['REPORT']['ABSOLUTE_VALUES'] = None\n",
    "    # if 'PARAMETERS' in DB_DICT['REPORT']:\n",
    "    #     DB_DICT['REPORT']['TESTREPORT'] = DB_DICT['REPORT'].pop('PARAMETERS')\n",
    "    # if 'UNITS' in DB_DICT['REPORT']:\n",
    "    #     DB_DICT['REPORT']['MEASURE_UNITS'] = DB_DICT['REPORT'].pop('UNITS')\n",
    "\n",
    "    if 'MEASURE_UNITS' in DB_DICT['REPORT']:\n",
    "        DB_DICT['REPORT']['MEASUREMENT_UNITS'] = DB_DICT['REPORT'].pop('MEASURE_UNITS')\n",
    "\n",
    "    ## CHECK\n",
    "    # if 'LIMIT_ERROR' in DB_DICT['REPORT']['TESTREPORT']:\n",
    "    #     DB_DICT['REPORT']['TESTREPORT']['LIMIT_OF_ERROR'] = DB_DICT['REPORT']['TESTREPORT'].pop('LIMIT_ERROR')\n",
    "    # if 'SPECIFICATION' in DB_DICT['REPORT']['MEASURE_UNITS']:\n",
    "    #     DB_DICT['REPORT']['MEASURE_UNITS']['LIMIT_OF_ERROR'] = DB_DICT['REPORT']['MEASURE_UNITS'].pop('SPECIFICATION')\n",
    "    if 'MEASURE' in DB_DICT['REPORT']['TESTREPORT']:\n",
    "        DB_DICT['REPORT']['TESTREPORT']['MEASUREMENT'] = DB_DICT['REPORT']['TESTREPORT'].pop('MEASURE')\n",
    "\n",
    "    # supabase.table('PROCEDURES').update({'DB': json.dumps(DB_DICT)}).eq('Id', row['Id']).execute()\n",
    "    \n",
    "    # print(DB_DICT['REPORT'])"
   ]
  }
 ],
 "metadata": {
  "kernelspec": {
   "display_name": ".venv",
   "language": "python",
   "name": "python3"
  },
  "language_info": {
   "codemirror_mode": {
    "name": "ipython",
    "version": 3
   },
   "file_extension": ".py",
   "mimetype": "text/x-python",
   "name": "python",
   "nbconvert_exporter": "python",
   "pygments_lexer": "ipython3",
   "version": "3.12.5"
  }
 },
 "nbformat": 4,
 "nbformat_minor": 2
}
